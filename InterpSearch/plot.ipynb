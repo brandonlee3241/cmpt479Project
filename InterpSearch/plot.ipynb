{
 "cells": [
  {
   "cell_type": "code",
   "execution_count": 74,
   "metadata": {},
   "outputs": [],
   "source": [
    "import matplotlib.pyplot as plt\n",
    "import seaborn as sns\n",
    "\n",
    "sns.reset_defaults()"
   ]
  },
  {
   "cell_type": "code",
   "execution_count": 75,
   "metadata": {},
   "outputs": [],
   "source": [
    "def bench(n=2**20, q=2**20, source='std'):\n",
    "    !make -s {source}\n",
    "    if _exit_code != 0:\n",
    "        raise Exception(\"Compilation failed\")\n",
    "    res = !./{source} {n} {q}\n",
    "    #res = !g++ -O3 -march=native -D N={n} -D Q={q} {source} -o run && ./run\n",
    "    duration = float(res[0].split()[0])\n",
    "    check = int(res[1])\n",
    "    print(f'{source:>18} {n:<7} {q:<7} {check:10} {duration}')\n",
    "    return duration\n",
    "\n",
    "ns = list(int(1.17**k) for k in range(30, 60))"
   ]
  },
  {
   "cell_type": "code",
   "execution_count": 76,
   "metadata": {},
   "outputs": [],
   "source": [
    "def plot(title=None, ylabel=None, path=None, ch=None, legend=False, ylim=None):\n",
    "    if ch:\n",
    "        lines = [\n",
    "            (2**13, \"32K\"),\n",
    "            (2**17, \"512K\"),\n",
    "            (2**20, \"4M\"),\n",
    "        ]\n",
    "\n",
    "        for x, t in lines:\n",
    "            #plt.text(x * 1.2, ch, t)\n",
    "            plt.axvline(x=x, color='black', linestyle='--')\n",
    "\n",
    "    plt.xscale('log', base=2)\n",
    "    plt.xlabel('Array size')\n",
    "\n",
    "    if ylabel:\n",
    "        plt.ylabel(ylabel)\n",
    "\n",
    "    if title:\n",
    "        plt.title(title, pad=12)\n",
    "\n",
    "    if legend:\n",
    "        plt.legend(loc='best')\n",
    "\n",
    "    plt.ylim(bottom=0, top=ylim)\n",
    "    plt.margins(0)\n",
    "\n",
    "    if path:\n",
    "        fig = plt.gcf()\n",
    "        fig.savefig(path)\n",
    "    plt.show()\n",
    "\n",
    "\n",
    "#plt.plot(ns, inc_res, color='darkred')\n",
    "#plot('for (int i = 0; i < n; i++) a[i]++', 'Increments per second ($10^9$)', 'inc.svg', 4.7)"
   ]
  },
  {
   "cell_type": "code",
   "execution_count": 77,
   "metadata": {},
   "outputs": [],
   "source": [
    "# bench(source='textbook', n=2**24)\n",
    "# bench(source='branchless', n=2**24)\n",
    "# bench(source='branchless-prefetch', n=2**24)\n",
    "# bench(source='branchless-drop-in', n=2**24)"
   ]
  },
  {
   "cell_type": "code",
   "execution_count": 78,
   "metadata": {},
   "outputs": [],
   "source": [
    "# bench(source='branchless-drop-in', n=2**12)"
   ]
  },
  {
   "cell_type": "code",
   "execution_count": 79,
   "metadata": {},
   "outputs": [],
   "source": [
    "# [bench(source=source, n=2**12) for source in ['textbook', 'branchless', 'branchless-drop-in']]"
   ]
  },
  {
   "cell_type": "code",
   "execution_count": 80,
   "metadata": {},
   "outputs": [],
   "source": [
    "# x = [bench(source='eytzinger', n=n, q=2**22) for n in ns]"
   ]
  },
  {
   "cell_type": "code",
   "execution_count": 81,
   "metadata": {},
   "outputs": [],
   "source": [
    "# y = [bench(source='eytzinger-last', n=n, q=2**22) for n in ns]"
   ]
  },
  {
   "cell_type": "code",
   "execution_count": 82,
   "metadata": {},
   "outputs": [],
   "source": [
    "# z = [bench(source='eytzinger-fill', n=n, q=2**22) for n in ns]"
   ]
  },
  {
   "cell_type": "code",
   "execution_count": 83,
   "metadata": {},
   "outputs": [],
   "source": [
    "# mini_std = [bench(source='std', n=n, q=2**22) for n in ns]\n",
    "# mini_branchless = [bench(source='branchless', n=n, q=2**22) for n in ns]"
   ]
  },
  {
   "cell_type": "code",
   "execution_count": 84,
   "metadata": {},
   "outputs": [],
   "source": [
    "# plt.plot(ns, mini_std, color='darkred', label='std::lower_bound')\n",
    "# plt.plot(ns, mini_branchless, color='darkblue', label='branchless')\n",
    "# plt.plot(ns, x, color='darkgreen', label='eytzinger')\n",
    "\n",
    "# plot('Binary search', 'Latency (ns)', path='bumps.svg', legend=True)"
   ]
  },
  {
   "cell_type": "code",
   "execution_count": 85,
   "metadata": {},
   "outputs": [],
   "source": [
    "# plt.plot(ns, x, color='darkred', label='GCC')\n",
    "# plt.plot(ns, z, color='darkblue', label='GCC (padded array)')\n",
    "# plt.plot(ns, y, color='darkgreen', label='Clang (removed branch)')\n",
    "\n",
    "# plot('Binary search', 'Latency (ns)', path='branchless-eytzinger.svg', legend=True)"
   ]
  },
  {
   "cell_type": "code",
   "execution_count": 86,
   "metadata": {},
   "outputs": [],
   "source": [
    "# bench(source='btree', n=2**23, q=2**22)\n",
    "# bench(source='btree-hugepages', n=2**23, q=2**22)"
   ]
  },
  {
   "cell_type": "code",
   "execution_count": 87,
   "metadata": {},
   "outputs": [],
   "source": [
    "#bench(n=2**10, q=2**22, source='std')\n",
    "#bench(n=2**10, q=2**22, source='textbook')\n",
    "# bench(n=2**10, q=2**22, source='branchless')\n",
    "# bench(n=2**10, q=2**22, source='btree-hugepages')\n",
    "# bench(n=2**10, q=2**22, source='btree-unrolled')"
   ]
  },
  {
   "cell_type": "code",
   "execution_count": 88,
   "metadata": {},
   "outputs": [],
   "source": [
    "def plot(title=None, ylabel=None, path=None, ch=None, legend=False, ylim=None):\n",
    "    if ch:\n",
    "        lines = [\n",
    "            (2**13, \"32K\"),\n",
    "            (2**17, \"512K\"),\n",
    "            (2**20, \"4M\"),\n",
    "        ]\n",
    "\n",
    "        for x, t in lines:\n",
    "            #plt.text(x * 1.2, ch, t)\n",
    "            plt.axvline(x=x, color='black', linestyle='--')\n",
    "\n",
    "    plt.xscale('log', base=2)\n",
    "    plt.xlabel('Array size')\n",
    "\n",
    "    if ylabel:\n",
    "        plt.ylabel(ylabel)\n",
    "\n",
    "    if title:\n",
    "        plt.title(title, pad=12)\n",
    "\n",
    "    if legend:\n",
    "        plt.legend(loc='best')\n",
    "\n",
    "    plt.ylim(bottom=0, top=ylim)\n",
    "    plt.margins(0)\n",
    "\n",
    "    if path:\n",
    "        fig = plt.gcf()\n",
    "        fig.savefig(path)\n",
    "    plt.show()\n",
    "\n",
    "\n",
    "#plt.plot(ns, inc_res, color='darkred')\n",
    "#plot('for (int i = 0; i < n; i++) a[i]++', 'Increments per second ($10^9$)', 'inc.svg', 4.7)"
   ]
  },
  {
   "cell_type": "code",
   "execution_count": 89,
   "metadata": {},
   "outputs": [
    {
     "name": "stderr",
     "output_type": "stream",
     "text": [
      "<>:5: SyntaxWarning: 'tuple' object is not callable; perhaps you missed a comma?\n",
      "<>:5: SyntaxWarning: 'tuple' object is not callable; perhaps you missed a comma?\n",
      "/tmp/ipykernel_280874/520615877.py:5: SyntaxWarning: 'tuple' object is not callable; perhaps you missed a comma?\n",
      "  ('branchless-prefetch', 'branchless + prefetching', 'darkgreen')\n",
      "/tmp/ipykernel_280874/520615877.py:5: SyntaxWarning: 'tuple' object is not callable; perhaps you missed a comma?\n",
      "  ('branchless-prefetch', 'branchless + prefetching', 'darkgreen')\n",
      "/tmp/ipykernel_280874/520615877.py:5: SyntaxWarning: 'tuple' object is not callable; perhaps you missed a comma?\n",
      "  ('branchless-prefetch', 'branchless + prefetching', 'darkgreen')\n"
     ]
    },
    {
     "ename": "TypeError",
     "evalue": "'tuple' object is not callable",
     "output_type": "error",
     "traceback": [
      "\u001b[0;31m---------------------------------------------------------------------------\u001b[0m",
      "\u001b[0;31mTypeError\u001b[0m                                 Traceback (most recent call last)",
      "Cell \u001b[0;32mIn[89], line 5\u001b[0m\n\u001b[1;32m      1\u001b[0m tasks \u001b[38;5;241m=\u001b[39m [\n\u001b[1;32m      2\u001b[0m     \u001b[38;5;66;03m# source, name, color\u001b[39;00m\n\u001b[1;32m      3\u001b[0m     (\u001b[38;5;124m'\u001b[39m\u001b[38;5;124mstd\u001b[39m\u001b[38;5;124m'\u001b[39m, \u001b[38;5;124m'\u001b[39m\u001b[38;5;124mstandard\u001b[39m\u001b[38;5;124m'\u001b[39m, \u001b[38;5;124m'\u001b[39m\u001b[38;5;124mdarkred\u001b[39m\u001b[38;5;124m'\u001b[39m),\n\u001b[1;32m      4\u001b[0m     (\u001b[38;5;124m'\u001b[39m\u001b[38;5;124mbranchless\u001b[39m\u001b[38;5;124m'\u001b[39m, \u001b[38;5;124m'\u001b[39m\u001b[38;5;124mbranchless\u001b[39m\u001b[38;5;124m'\u001b[39m, \u001b[38;5;124m'\u001b[39m\u001b[38;5;124mdarkblue\u001b[39m\u001b[38;5;124m'\u001b[39m),\n\u001b[0;32m----> 5\u001b[0m     \u001b[43m(\u001b[49m\u001b[38;5;124;43m'\u001b[39;49m\u001b[38;5;124;43mbranchless-prefetch\u001b[39;49m\u001b[38;5;124;43m'\u001b[39;49m\u001b[43m,\u001b[49m\u001b[43m \u001b[49m\u001b[38;5;124;43m'\u001b[39;49m\u001b[38;5;124;43mbranchless + prefetching\u001b[39;49m\u001b[38;5;124;43m'\u001b[39;49m\u001b[43m,\u001b[49m\u001b[43m \u001b[49m\u001b[38;5;124;43m'\u001b[39;49m\u001b[38;5;124;43mdarkgreen\u001b[39;49m\u001b[38;5;124;43m'\u001b[39;49m\u001b[43m)\u001b[49m\n\u001b[1;32m      6\u001b[0m \u001b[43m    \u001b[49m\u001b[43m(\u001b[49m\u001b[38;5;124;43m'\u001b[39;49m\u001b[38;5;124;43meytzinger\u001b[39;49m\u001b[38;5;124;43m'\u001b[39;49m\u001b[43m,\u001b[49m\u001b[43m \u001b[49m\u001b[38;5;124;43m'\u001b[39;49m\u001b[38;5;124;43meytzinger\u001b[39;49m\u001b[38;5;124;43m'\u001b[39;49m\u001b[43m,\u001b[49m\u001b[43m \u001b[49m\u001b[38;5;124;43m'\u001b[39;49m\u001b[38;5;124;43mcyan\u001b[39;49m\u001b[38;5;124;43m'\u001b[39;49m\u001b[43m)\u001b[49m,\n\u001b[1;32m      7\u001b[0m     (\u001b[38;5;124m'\u001b[39m\u001b[38;5;124meytzinger-prefetch\u001b[39m\u001b[38;5;124m'\u001b[39m, \u001b[38;5;124m'\u001b[39m\u001b[38;5;124meytzinger (with prefetching)\u001b[39m\u001b[38;5;124m'\u001b[39m, \u001b[38;5;124m'\u001b[39m\u001b[38;5;124morange\u001b[39m\u001b[38;5;124m'\u001b[39m),\n\u001b[1;32m      8\u001b[0m     (\u001b[38;5;124m'\u001b[39m\u001b[38;5;124meytzinger-fill\u001b[39m\u001b[38;5;124m'\u001b[39m,\u001b[38;5;124m'\u001b[39m\u001b[38;5;124meytzinger (fixed number of iterations)\u001b[39m\u001b[38;5;124m'\u001b[39m, \u001b[38;5;124m'\u001b[39m\u001b[38;5;124mpurple\u001b[39m\u001b[38;5;124m'\u001b[39m)\n\u001b[1;32m      9\u001b[0m     \u001b[38;5;66;03m# ('btree', 'B-tree (with SIMD)', 'purple'),\u001b[39;00m\n\u001b[1;32m     10\u001b[0m     \u001b[38;5;66;03m# ('btree-hugepages', 'B-tree (with SIMD and huge pages)', 'cyan'),\u001b[39;00m\n\u001b[1;32m     11\u001b[0m ]\n\u001b[1;32m     13\u001b[0m \u001b[38;5;66;03m#ns = [2**14, 2**15]\u001b[39;00m\n\u001b[1;32m     14\u001b[0m ns \u001b[38;5;241m=\u001b[39m \u001b[38;5;28mlist\u001b[39m(\u001b[38;5;28mint\u001b[39m(\u001b[38;5;241m1.17\u001b[39m\u001b[38;5;241m*\u001b[39m\u001b[38;5;241m*\u001b[39mk) \u001b[38;5;28;01mfor\u001b[39;00m k \u001b[38;5;129;01min\u001b[39;00m \u001b[38;5;28mrange\u001b[39m(\u001b[38;5;241m30\u001b[39m, \u001b[38;5;241m105\u001b[39m))\n",
      "\u001b[0;31mTypeError\u001b[0m: 'tuple' object is not callable"
     ]
    }
   ],
   "source": [
    "tasks = [\n",
    "    # source, name, color\n",
    "    ('std', 'standard', 'darkred'),\n",
    "    ('branchless', 'branchless', 'darkblue'),\n",
    "    ('branchless-prefetch', 'branchless + prefetching', 'darkgreen'),\n",
    "    ('eytzinger', 'eytzinger', 'cyan'),\n",
    "    ('eytzinger-prefetch', 'eytzinger (with prefetching)', 'orange'),\n",
    "    ('eytzinger-fill','eytzinger (fixed number of iterations)', 'purple')\n",
    "    # ('btree', 'B-tree (with SIMD)', 'purple'),\n",
    "    # ('btree-hugepages', 'B-tree (with SIMD and huge pages)', 'cyan'),\n",
    "]\n",
    "\n",
    "#ns = [2**14, 2**15]\n",
    "ns = list(int(1.17**k) for k in range(30, 105))\n",
    "\n",
    "results = [\n",
    "    [bench(n=n, q=2**22, source=source) for n in ns]\n",
    "    for source, _, _ in tasks\n",
    "]"
   ]
  },
  {
   "cell_type": "code",
   "execution_count": null,
   "metadata": {},
   "outputs": [],
   "source": [
    "import pickle\n",
    "\n",
    "with open('results.pkl', 'wb') as file:\n",
    "    pickle.dump(results, file)"
   ]
  },
  {
   "cell_type": "code",
   "execution_count": null,
   "metadata": {},
   "outputs": [],
   "source": [
    "for i, current in enumerate(tasks):\n",
    "    for (source, name, color), latencies in list(zip(tasks, results))[:i + 1]:\n",
    "        plt.plot(ns, latencies, color=color, label=name)\n",
    "    \n",
    "    plot('Interpolation Search', 'Latency (ns)', current[0] + '.svg', 1, legend=True)"
   ]
  },
  {
   "cell_type": "code",
   "execution_count": null,
   "metadata": {},
   "outputs": [],
   "source": [
    "lim = 50\n",
    "for (source, name, color), latencies in list(zip(tasks, results)):\n",
    "    plt.plot(ns[:lim], latencies[:lim], color=color, label=name)\n",
    "\n",
    "plot('Interpolation search', 'Latency (ns)', 'mini.svg', legend=True)"
   ]
  }
 ],
 "metadata": {
  "interpreter": {
   "hash": "e7370f93d1d0cde622a1f8e1c04877d8463912d04d973331ad4851f04de6915a"
  },
  "kernelspec": {
   "display_name": "Python 3.8.10 64-bit",
   "language": "python",
   "name": "python3"
  },
  "language_info": {
   "codemirror_mode": {
    "name": "ipython",
    "version": 3
   },
   "file_extension": ".py",
   "mimetype": "text/x-python",
   "name": "python",
   "nbconvert_exporter": "python",
   "pygments_lexer": "ipython3",
   "version": "3.10.12"
  },
  "orig_nbformat": 4
 },
 "nbformat": 4,
 "nbformat_minor": 2
}
